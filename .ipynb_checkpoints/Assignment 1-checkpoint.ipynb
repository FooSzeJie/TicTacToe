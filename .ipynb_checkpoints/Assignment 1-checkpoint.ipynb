{
 "cells": [
  {
   "cell_type": "code",
   "execution_count": 1,
   "id": "b91b42ad-3e12-4d51-b1d9-a21eae716380",
   "metadata": {},
   "outputs": [
    {
     "name": "stdin",
     "output_type": "stream",
     "text": [
      "What symbol you want to select: (just key in x or o or you want to \"quit\") o\n"
     ]
    },
    {
     "name": "stdout",
     "output_type": "stream",
     "text": [
      "\n",
      "top left = tl \n",
      "top center = tc \n",
      "top right = tr\n",
      "\n",
      "mid left = ml \n",
      "mid center = mc \n",
      "mid right = mr\n",
      "\n",
      "bottom left = bl \n",
      "bottom center = bc \n",
      "bottom right = br\n"
     ]
    },
    {
     "name": "stdin",
     "output_type": "stream",
     "text": [
      "\n",
      "Player 1, What position you want to tic? tl\n"
     ]
    },
    {
     "name": "stdout",
     "output_type": "stream",
     "text": [
      "o |   |  \n",
      "--+---+--\n",
      "  |   |  \n",
      "--+---+--\n",
      "  |   |  \n"
     ]
    },
    {
     "name": "stdin",
     "output_type": "stream",
     "text": [
      "\n",
      "Player 2, What position you want to tic? br\n"
     ]
    },
    {
     "name": "stdout",
     "output_type": "stream",
     "text": [
      "o |   |  \n",
      "--+---+--\n",
      "  |   |  \n",
      "--+---+--\n",
      "  |   | x\n"
     ]
    },
    {
     "name": "stdin",
     "output_type": "stream",
     "text": [
      "\n",
      "Player 1, What position you want to tic? tr\n"
     ]
    },
    {
     "name": "stdout",
     "output_type": "stream",
     "text": [
      "o |   | o\n",
      "--+---+--\n",
      "  |   |  \n",
      "--+---+--\n",
      "  |   | x\n"
     ]
    },
    {
     "name": "stdin",
     "output_type": "stream",
     "text": [
      "\n",
      "Player 2, What position you want to tic? tc\n"
     ]
    },
    {
     "name": "stdout",
     "output_type": "stream",
     "text": [
      "o | x | o\n",
      "--+---+--\n",
      "  |   |  \n",
      "--+---+--\n",
      "  |   | x\n"
     ]
    },
    {
     "name": "stdin",
     "output_type": "stream",
     "text": [
      "\n",
      "Player 1, What position you want to tic? bl\n"
     ]
    },
    {
     "name": "stdout",
     "output_type": "stream",
     "text": [
      "o | x | o\n",
      "--+---+--\n",
      "  |   |  \n",
      "--+---+--\n",
      "o |   | x\n"
     ]
    },
    {
     "name": "stdin",
     "output_type": "stream",
     "text": [
      "\n",
      "Player 2, What position you want to tic? ml\n"
     ]
    },
    {
     "name": "stdout",
     "output_type": "stream",
     "text": [
      "o | x | o\n",
      "--+---+--\n",
      "x |   |  \n",
      "--+---+--\n",
      "o |   | x\n"
     ]
    },
    {
     "name": "stdin",
     "output_type": "stream",
     "text": [
      "\n",
      "Player 1, What position you want to tic? bc\n"
     ]
    },
    {
     "name": "stdout",
     "output_type": "stream",
     "text": [
      "o | x | o\n",
      "--+---+--\n",
      "x |   |  \n",
      "--+---+--\n",
      "o | o | x\n"
     ]
    },
    {
     "name": "stdin",
     "output_type": "stream",
     "text": [
      "\n",
      "Player 2, What position you want to tic? mr\n"
     ]
    },
    {
     "name": "stdout",
     "output_type": "stream",
     "text": [
      "o | x | o\n",
      "--+---+--\n",
      "x |   | x\n",
      "--+---+--\n",
      "o | o | x\n"
     ]
    },
    {
     "name": "stdin",
     "output_type": "stream",
     "text": [
      "\n",
      "Player 1, What position you want to tic? mc\n"
     ]
    },
    {
     "name": "stdout",
     "output_type": "stream",
     "text": [
      "o | x | o\n",
      "--+---+--\n",
      "x | o | x\n",
      "--+---+--\n",
      "o | o | x\n",
      "\n",
      "Player 1 is Winner!\n"
     ]
    }
   ],
   "source": [
    "from TikTacToe import *\n",
    "\n",
    "# User input what symbol they want to use\n",
    "player1 = input('Player 1, What symbol you want to select: (just key in \"x\" or \"o\" or you want to \"quit\")')\n",
    "\n",
    "while True:\n",
    "    \n",
    "    if player1 in ['x', 'o']:\n",
    "        ttt = TikTacToe()\n",
    "        ttt.PlayGame(player1)\n",
    "        break\n",
    "    elif player1 == 'quit':\n",
    "        print('Good Bye')\n",
    "        break\n",
    "    else:\n",
    "        player1 = input('You only can enter x or o, or quit)')"
   ]
  },
  {
   "cell_type": "code",
   "execution_count": null,
   "id": "eb33868d-f6a6-407e-b0bd-9e6c780e1635",
   "metadata": {},
   "outputs": [],
   "source": []
  }
 ],
 "metadata": {
  "kernelspec": {
   "display_name": "Python 3 (ipykernel)",
   "language": "python",
   "name": "python3"
  },
  "language_info": {
   "codemirror_mode": {
    "name": "ipython",
    "version": 3
   },
   "file_extension": ".py",
   "mimetype": "text/x-python",
   "name": "python",
   "nbconvert_exporter": "python",
   "pygments_lexer": "ipython3",
   "version": "3.11.7"
  }
 },
 "nbformat": 4,
 "nbformat_minor": 5
}
